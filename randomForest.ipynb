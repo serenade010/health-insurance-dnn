{
 "cells": [
  {
   "cell_type": "code",
   "execution_count": 1,
   "metadata": {},
   "outputs": [],
   "source": [
    "import pandas as pd\n",
    "import numpy as np\n",
    "import matplotlib.pyplot as plt\n",
    "import seaborn as sns\n",
    "%matplotlib inline"
   ]
  },
  {
   "cell_type": "code",
   "execution_count": 2,
   "metadata": {},
   "outputs": [
    {
     "name": "stdout",
     "output_type": "stream",
     "text": [
      "<class 'pandas.core.frame.DataFrame'>\n",
      "RangeIndex: 381109 entries, 0 to 381108\n",
      "Data columns (total 16 columns):\n",
      " #   Column                 Non-Null Count   Dtype  \n",
      "---  ------                 --------------   -----  \n",
      " 0   id                     381109 non-null  int64  \n",
      " 1   Age                    381109 non-null  int64  \n",
      " 2   Driving_License        381109 non-null  int64  \n",
      " 3   Region_Code            381109 non-null  float64\n",
      " 4   Previously_Insured     381109 non-null  int64  \n",
      " 5   Annual_Premium         381109 non-null  float64\n",
      " 6   Policy_Sales_Channel   381109 non-null  float64\n",
      " 7   Vintage                381109 non-null  int64  \n",
      " 8   Response               381109 non-null  int64  \n",
      " 9   Gender_Female          381109 non-null  uint8  \n",
      " 10  Gender_Male            381109 non-null  uint8  \n",
      " 11  Vehicle_Age_1-2 Year   381109 non-null  uint8  \n",
      " 12  Vehicle_Age_< 1 Year   381109 non-null  uint8  \n",
      " 13  Vehicle_Age_> 2 Years  381109 non-null  uint8  \n",
      " 14  Vehicle_Damage_No      381109 non-null  uint8  \n",
      " 15  Vehicle_Damage_Yes     381109 non-null  uint8  \n",
      "dtypes: float64(3), int64(6), uint8(7)\n",
      "memory usage: 28.7 MB\n"
     ]
    }
   ],
   "source": [
    "df = pd.read_csv('/Users/faustina/Downloads/archive/train.csv')\n",
    "\n",
    "df = pd.get_dummies(df)\n",
    "\n",
    "df.head()\n",
    "df.info()"
   ]
  },
  {
   "cell_type": "code",
   "execution_count": 3,
   "metadata": {},
   "outputs": [],
   "source": [
    "from sklearn.model_selection import train_test_split\n",
    "X = df.drop('Response',axis=1)\n",
    "y = df['Response']\n",
    "X_train, X_test, y_train, y_test = train_test_split(X, y, test_size=0.30,random_state=101)\n"
   ]
  },
  {
   "cell_type": "code",
   "execution_count": 4,
   "metadata": {},
   "outputs": [
    {
     "data": {
      "text/plain": [
       "DecisionTreeClassifier()"
      ]
     },
     "execution_count": 4,
     "metadata": {},
     "output_type": "execute_result"
    }
   ],
   "source": [
    "from sklearn.tree import DecisionTreeClassifier\n",
    "dtree = DecisionTreeClassifier()\n",
    "dtree.fit(X_train,y_train)"
   ]
  },
  {
   "cell_type": "code",
   "execution_count": 5,
   "metadata": {},
   "outputs": [
    {
     "name": "stdout",
     "output_type": "stream",
     "text": [
      "              precision    recall  f1-score   support\n",
      "\n",
      "           0       0.90      0.89      0.90    100386\n",
      "           1       0.29      0.31      0.30     13947\n",
      "\n",
      "    accuracy                           0.82    114333\n",
      "   macro avg       0.60      0.60      0.60    114333\n",
      "weighted avg       0.83      0.82      0.83    114333\n",
      "\n",
      "[[89810 10576]\n",
      " [ 9635  4312]]\n"
     ]
    }
   ],
   "source": [
    "predictions = dtree.predict(X_test)\n",
    "from sklearn.metrics import classification_report,confusion_matrix\n",
    "print(classification_report(y_test,predictions))\n",
    "print(confusion_matrix(y_test,predictions))"
   ]
  },
  {
   "cell_type": "code",
   "execution_count": null,
   "metadata": {},
   "outputs": [],
   "source": []
  },
  {
   "cell_type": "code",
   "execution_count": null,
   "metadata": {},
   "outputs": [],
   "source": []
  }
 ],
 "metadata": {
  "kernelspec": {
   "display_name": "Python 3",
   "language": "python",
   "name": "python3"
  },
  "language_info": {
   "codemirror_mode": {
    "name": "ipython",
    "version": 3
   },
   "file_extension": ".py",
   "mimetype": "text/x-python",
   "name": "python",
   "nbconvert_exporter": "python",
   "pygments_lexer": "ipython3",
   "version": "3.8.5"
  }
 },
 "nbformat": 4,
 "nbformat_minor": 4
}
