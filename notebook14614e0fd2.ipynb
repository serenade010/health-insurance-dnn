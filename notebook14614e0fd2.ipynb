{
 "cells": [
  {
   "cell_type": "code",
   "execution_count": 1,
   "id": "95ea045c",
   "metadata": {
    "execution": {
     "iopub.execute_input": "2022-01-04T03:03:41.988147Z",
     "iopub.status.busy": "2022-01-04T03:03:41.983085Z",
     "iopub.status.idle": "2022-01-04T03:03:43.061193Z",
     "shell.execute_reply": "2022-01-04T03:03:43.060563Z",
     "shell.execute_reply.started": "2022-01-04T03:01:51.763992Z"
    },
    "papermill": {
     "duration": 1.101132,
     "end_time": "2022-01-04T03:03:43.061351",
     "exception": false,
     "start_time": "2022-01-04T03:03:41.960219",
     "status": "completed"
    },
    "tags": []
   },
   "outputs": [],
   "source": [
    "import pandas as pd\n",
    "import numpy as np\n",
    "import matplotlib as mpl\n",
    "import matplotlib.pyplot as plt\n",
    "import seaborn as sns\n",
    "import sklearn\n",
    "\n",
    "from sklearn.model_selection import cross_val_score\n",
    "from sklearn.linear_model import LogisticRegression\n",
    "from sklearn.ensemble import RandomForestClassifier\n",
    "from sklearn.neighbors import KNeighborsClassifier\n",
    "from sklearn.tree import DecisionTreeClassifier\n",
    "from sklearn.metrics import confusion_matrix, classification_report\n",
    "import sklearn.metrics as metrics\n",
    "from sklearn.metrics import make_scorer, accuracy_score, roc_auc_score\n",
    "from sklearn.model_selection import GridSearchCV\n",
    "from sklearn.model_selection import train_test_split\n"
   ]
  },
  {
   "cell_type": "code",
   "execution_count": 2,
   "id": "3cb89036",
   "metadata": {
    "execution": {
     "iopub.execute_input": "2022-01-04T03:03:43.085258Z",
     "iopub.status.busy": "2022-01-04T03:03:43.084750Z",
     "iopub.status.idle": "2022-01-04T03:03:43.757441Z",
     "shell.execute_reply": "2022-01-04T03:03:43.758133Z",
     "shell.execute_reply.started": "2022-01-04T03:01:51.773313Z"
    },
    "papermill": {
     "duration": 0.68586,
     "end_time": "2022-01-04T03:03:43.758411",
     "exception": false,
     "start_time": "2022-01-04T03:03:43.072551",
     "status": "completed"
    },
    "tags": []
   },
   "outputs": [],
   "source": [
    "df=pd.read_csv(\"../input/health-insurance-cross-sell-prediction/train.csv\")"
   ]
  },
  {
   "cell_type": "code",
   "execution_count": 3,
   "id": "58e30353",
   "metadata": {
    "execution": {
     "iopub.execute_input": "2022-01-04T03:03:43.800549Z",
     "iopub.status.busy": "2022-01-04T03:03:43.796753Z",
     "iopub.status.idle": "2022-01-04T03:03:44.364209Z",
     "shell.execute_reply": "2022-01-04T03:03:44.363651Z",
     "shell.execute_reply.started": "2022-01-04T03:01:52.185270Z"
    },
    "papermill": {
     "duration": 0.592259,
     "end_time": "2022-01-04T03:03:44.364367",
     "exception": false,
     "start_time": "2022-01-04T03:03:43.772108",
     "status": "completed"
    },
    "tags": []
   },
   "outputs": [],
   "source": [
    "df.loc[df['Gender'] == 'Male', 'Gender'] = 1\n",
    "df.loc[df['Gender'] == 'Female', 'Gender'] = 0\n",
    "df.loc[df['Vehicle_Age'] == '> 2 Years', 'Vehicle_Age'] = 2\n",
    "df.loc[df['Vehicle_Age'] == '1-2 Year', 'Vehicle_Age'] = 1\n",
    "df.loc[df['Vehicle_Age'] == '< 1 Year', 'Vehicle_Age'] = 0\n",
    "df.loc[df['Vehicle_Damage'] == 'Yes', 'Vehicle_Damage'] = 1\n",
    "df.loc[df['Vehicle_Damage'] == 'No', 'Vehicle_Damage'] = 0"
   ]
  },
  {
   "cell_type": "code",
   "execution_count": 4,
   "id": "dcf4d66e",
   "metadata": {
    "execution": {
     "iopub.execute_input": "2022-01-04T03:03:44.427364Z",
     "iopub.status.busy": "2022-01-04T03:03:44.402233Z",
     "iopub.status.idle": "2022-01-04T03:03:44.757941Z",
     "shell.execute_reply": "2022-01-04T03:03:44.757246Z",
     "shell.execute_reply.started": "2022-01-04T03:01:52.597845Z"
    },
    "papermill": {
     "duration": 0.384656,
     "end_time": "2022-01-04T03:03:44.758085",
     "exception": false,
     "start_time": "2022-01-04T03:03:44.373429",
     "status": "completed"
    },
    "tags": []
   },
   "outputs": [],
   "source": [
    "from sklearn.preprocessing import LabelEncoder\n",
    "labelencoder = LabelEncoder()\n",
    "df=pd.DataFrame(df)\n",
    "df['Gender'] = labelencoder.fit_transform(df['Gender'])\n",
    "df['Vehicle_Age'] = labelencoder.fit_transform(df['Vehicle_Age'])\n",
    "df['Vehicle_Damage'] = labelencoder.fit_transform(df['Vehicle_Damage'])"
   ]
  },
  {
   "cell_type": "code",
   "execution_count": 5,
   "id": "a84a22db",
   "metadata": {
    "execution": {
     "iopub.execute_input": "2022-01-04T03:03:44.779790Z",
     "iopub.status.busy": "2022-01-04T03:03:44.779068Z",
     "iopub.status.idle": "2022-01-04T03:03:45.067179Z",
     "shell.execute_reply": "2022-01-04T03:03:45.066703Z",
     "shell.execute_reply.started": "2022-01-04T03:01:52.961232Z"
    },
    "papermill": {
     "duration": 0.300014,
     "end_time": "2022-01-04T03:03:45.067310",
     "exception": false,
     "start_time": "2022-01-04T03:03:44.767296",
     "status": "completed"
    },
    "tags": []
   },
   "outputs": [],
   "source": [
    "n=df.shape[0]\n",
    "range = max(df['Annual_Premium'])-min(df['Annual_Premium'])\n",
    "mean = sum(df['Annual_Premium'])/n\n",
    "df['Annual_Premium'] = (df['Annual_Premium']-mean)/range\n",
    "range1 = max(df['Vintage'])-min(df['Vintage'])\n",
    "mean1 = sum(df['Vintage'])/n\n",
    "df['Vintage'] = (df['Vintage']-mean1)/range1"
   ]
  },
  {
   "cell_type": "code",
   "execution_count": 6,
   "id": "e73ea6a6",
   "metadata": {
    "execution": {
     "iopub.execute_input": "2022-01-04T03:03:45.089771Z",
     "iopub.status.busy": "2022-01-04T03:03:45.088921Z",
     "iopub.status.idle": "2022-01-04T03:03:45.152470Z",
     "shell.execute_reply": "2022-01-04T03:03:45.153089Z",
     "shell.execute_reply.started": "2022-01-04T03:01:53.247626Z"
    },
    "papermill": {
     "duration": 0.077239,
     "end_time": "2022-01-04T03:03:45.153282",
     "exception": false,
     "start_time": "2022-01-04T03:03:45.076043",
     "status": "completed"
    },
    "tags": []
   },
   "outputs": [
    {
     "name": "stdout",
     "output_type": "stream",
     "text": [
      "id                      46710\n",
      "Gender                  46710\n",
      "Age                     46710\n",
      "Driving_License         46710\n",
      "Region_Code             46710\n",
      "Previously_Insured      46710\n",
      "Vehicle_Age             46710\n",
      "Vehicle_Damage          46710\n",
      "Annual_Premium          46710\n",
      "Policy_Sales_Channel    46710\n",
      "Vintage                 46710\n",
      "Response                46710\n",
      "dtype: int64\n",
      "id                      334399\n",
      "Gender                  334399\n",
      "Age                     334399\n",
      "Driving_License         334399\n",
      "Region_Code             334399\n",
      "Previously_Insured      334399\n",
      "Vehicle_Age             334399\n",
      "Vehicle_Damage          334399\n",
      "Annual_Premium          334399\n",
      "Policy_Sales_Channel    334399\n",
      "Vintage                 334399\n",
      "Response                334399\n",
      "dtype: int64\n"
     ]
    }
   ],
   "source": [
    "c1 = df[df['Response']==True]\n",
    "print(c1.count())\n",
    "c2 = df[df['Response']==False]\n",
    "print(c2.count())"
   ]
  },
  {
   "cell_type": "code",
   "execution_count": 7,
   "id": "cec83a7d",
   "metadata": {
    "execution": {
     "iopub.execute_input": "2022-01-04T03:03:45.178323Z",
     "iopub.status.busy": "2022-01-04T03:03:45.177637Z",
     "iopub.status.idle": "2022-01-04T03:03:45.206647Z",
     "shell.execute_reply": "2022-01-04T03:03:45.206121Z",
     "shell.execute_reply.started": "2022-01-04T03:01:53.311539Z"
    },
    "papermill": {
     "duration": 0.043246,
     "end_time": "2022-01-04T03:03:45.206779",
     "exception": false,
     "start_time": "2022-01-04T03:03:45.163533",
     "status": "completed"
    },
    "tags": []
   },
   "outputs": [],
   "source": [
    "c2 = c2.sample(n=46710)\n",
    "df = pd.concat([c1, c2], axis=0, join='inner')\n",
    "df=df.iloc[:,[1,2,3,5,6,7,8,10,11]]"
   ]
  },
  {
   "cell_type": "code",
   "execution_count": 8,
   "id": "dfb4a28d",
   "metadata": {
    "execution": {
     "iopub.execute_input": "2022-01-04T03:03:45.236791Z",
     "iopub.status.busy": "2022-01-04T03:03:45.235997Z",
     "iopub.status.idle": "2022-01-04T03:03:45.245408Z",
     "shell.execute_reply": "2022-01-04T03:03:45.244968Z",
     "shell.execute_reply.started": "2022-01-04T03:01:53.349934Z"
    },
    "papermill": {
     "duration": 0.029057,
     "end_time": "2022-01-04T03:03:45.245540",
     "exception": false,
     "start_time": "2022-01-04T03:03:45.216483",
     "status": "completed"
    },
    "tags": []
   },
   "outputs": [],
   "source": [
    "y=df.Response\n",
    "X=df.drop(columns=['Response'])\n",
    "X_train, X_test, y_train, y_test = train_test_split(X, y, test_size=0.3, random_state=42)"
   ]
  },
  {
   "cell_type": "code",
   "execution_count": 9,
   "id": "53bf51ee",
   "metadata": {
    "execution": {
     "iopub.execute_input": "2022-01-04T03:03:45.269516Z",
     "iopub.status.busy": "2022-01-04T03:03:45.268924Z",
     "iopub.status.idle": "2022-01-04T03:03:51.915236Z",
     "shell.execute_reply": "2022-01-04T03:03:51.915705Z",
     "shell.execute_reply.started": "2022-01-04T03:01:53.368652Z"
    },
    "papermill": {
     "duration": 6.66128,
     "end_time": "2022-01-04T03:03:51.915883",
     "exception": false,
     "start_time": "2022-01-04T03:03:45.254603",
     "status": "completed"
    },
    "tags": []
   },
   "outputs": [
    {
     "name": "stderr",
     "output_type": "stream",
     "text": [
      "2022-01-04 03:03:49.880865: I tensorflow/stream_executor/cuda/cuda_gpu_executor.cc:937] successful NUMA node read from SysFS had negative value (-1), but there must be at least one NUMA node, so returning NUMA node zero\n",
      "2022-01-04 03:03:49.966150: I tensorflow/stream_executor/cuda/cuda_gpu_executor.cc:937] successful NUMA node read from SysFS had negative value (-1), but there must be at least one NUMA node, so returning NUMA node zero\n",
      "2022-01-04 03:03:49.966905: I tensorflow/stream_executor/cuda/cuda_gpu_executor.cc:937] successful NUMA node read from SysFS had negative value (-1), but there must be at least one NUMA node, so returning NUMA node zero\n",
      "2022-01-04 03:03:49.968054: I tensorflow/core/platform/cpu_feature_guard.cc:142] This TensorFlow binary is optimized with oneAPI Deep Neural Network Library (oneDNN) to use the following CPU instructions in performance-critical operations:  AVX2 AVX512F FMA\n",
      "To enable them in other operations, rebuild TensorFlow with the appropriate compiler flags.\n",
      "2022-01-04 03:03:49.968797: I tensorflow/stream_executor/cuda/cuda_gpu_executor.cc:937] successful NUMA node read from SysFS had negative value (-1), but there must be at least one NUMA node, so returning NUMA node zero\n",
      "2022-01-04 03:03:49.969477: I tensorflow/stream_executor/cuda/cuda_gpu_executor.cc:937] successful NUMA node read from SysFS had negative value (-1), but there must be at least one NUMA node, so returning NUMA node zero\n",
      "2022-01-04 03:03:49.970071: I tensorflow/stream_executor/cuda/cuda_gpu_executor.cc:937] successful NUMA node read from SysFS had negative value (-1), but there must be at least one NUMA node, so returning NUMA node zero\n",
      "2022-01-04 03:03:51.547117: I tensorflow/stream_executor/cuda/cuda_gpu_executor.cc:937] successful NUMA node read from SysFS had negative value (-1), but there must be at least one NUMA node, so returning NUMA node zero\n",
      "2022-01-04 03:03:51.547937: I tensorflow/stream_executor/cuda/cuda_gpu_executor.cc:937] successful NUMA node read from SysFS had negative value (-1), but there must be at least one NUMA node, so returning NUMA node zero\n",
      "2022-01-04 03:03:51.548572: I tensorflow/stream_executor/cuda/cuda_gpu_executor.cc:937] successful NUMA node read from SysFS had negative value (-1), but there must be at least one NUMA node, so returning NUMA node zero\n",
      "2022-01-04 03:03:51.549140: I tensorflow/core/common_runtime/gpu/gpu_device.cc:1510] Created device /job:localhost/replica:0/task:0/device:GPU:0 with 15403 MB memory:  -> device: 0, name: Tesla P100-PCIE-16GB, pci bus id: 0000:00:04.0, compute capability: 6.0\n"
     ]
    }
   ],
   "source": [
    "import tensorflow as tf\n",
    "from tensorflow.keras.utils import to_categorical\n",
    "from tensorflow.keras.models import Sequential\n",
    "from tensorflow.keras.layers import Dense\n",
    "model = Sequential()\n",
    "model.add(Dense(30, input_dim=8, activation='relu'))\n",
    "# tf.keras.layers.Dropout(0.2, noise_shape=None, seed=26)\n",
    "model.add(Dense(50, activation='relu'))\n",
    "# tf.keras.layers.Dropout(0.2, noise_shape=None, seed=26)\n",
    "model.add(Dense(50, activation='relu'))\n",
    "model.add(Dense(20, activation='relu'))\n",
    "# tf.keras.layers.Dropout(0.2, noise_shape=None, seed=26)\n",
    "model.add(Dense(1, activation='sigmoid'))"
   ]
  },
  {
   "cell_type": "raw",
   "id": "d928db3b",
   "metadata": {
    "execution": {
     "iopub.execute_input": "2022-01-03T15:39:08.421398Z",
     "iopub.status.busy": "2022-01-03T15:39:08.42096Z",
     "iopub.status.idle": "2022-01-03T15:39:08.491174Z",
     "shell.execute_reply": "2022-01-03T15:39:08.489629Z",
     "shell.execute_reply.started": "2022-01-03T15:39:08.421363Z"
    },
    "papermill": {
     "duration": 0.009064,
     "end_time": "2022-01-04T03:03:51.934303",
     "exception": false,
     "start_time": "2022-01-04T03:03:51.925239",
     "status": "completed"
    },
    "tags": []
   },
   "source": []
  },
  {
   "cell_type": "code",
   "execution_count": 10,
   "id": "6521f40e",
   "metadata": {
    "execution": {
     "iopub.execute_input": "2022-01-04T03:03:51.957781Z",
     "iopub.status.busy": "2022-01-04T03:03:51.957033Z",
     "iopub.status.idle": "2022-01-04T03:03:51.966848Z",
     "shell.execute_reply": "2022-01-04T03:03:51.966370Z",
     "shell.execute_reply.started": "2022-01-04T03:01:53.414532Z"
    },
    "papermill": {
     "duration": 0.023464,
     "end_time": "2022-01-04T03:03:51.966959",
     "exception": false,
     "start_time": "2022-01-04T03:03:51.943495",
     "status": "completed"
    },
    "tags": []
   },
   "outputs": [],
   "source": [
    "model.compile(loss='binary_crossentropy', optimizer='adam', metrics=['accuracy'])"
   ]
  },
  {
   "cell_type": "code",
   "execution_count": 11,
   "id": "a81f1cbc",
   "metadata": {
    "execution": {
     "iopub.execute_input": "2022-01-04T03:03:51.989364Z",
     "iopub.status.busy": "2022-01-04T03:03:51.988609Z",
     "iopub.status.idle": "2022-01-04T03:06:15.082404Z",
     "shell.execute_reply": "2022-01-04T03:06:15.082895Z"
    },
    "papermill": {
     "duration": 143.106846,
     "end_time": "2022-01-04T03:06:15.083059",
     "exception": false,
     "start_time": "2022-01-04T03:03:51.976213",
     "status": "completed"
    },
    "tags": []
   },
   "outputs": [
    {
     "name": "stderr",
     "output_type": "stream",
     "text": [
      "2022-01-04 03:03:52.067978: I tensorflow/compiler/mlir/mlir_graph_optimization_pass.cc:185] None of the MLIR Optimization Passes are enabled (registered 2)\n"
     ]
    },
    {
     "name": "stdout",
     "output_type": "stream",
     "text": [
      "Epoch 1/100\n",
      "436/436 [==============================] - 2s 3ms/step - loss: 0.5517 - accuracy: 0.7292\n",
      "Epoch 2/100\n",
      "436/436 [==============================] - 1s 3ms/step - loss: 0.4478 - accuracy: 0.7838\n",
      "Epoch 3/100\n",
      "436/436 [==============================] - 1s 3ms/step - loss: 0.4457 - accuracy: 0.7841\n",
      "Epoch 4/100\n",
      "436/436 [==============================] - 1s 3ms/step - loss: 0.4427 - accuracy: 0.7848\n",
      "Epoch 5/100\n",
      "436/436 [==============================] - 1s 3ms/step - loss: 0.4379 - accuracy: 0.7894\n",
      "Epoch 6/100\n",
      "436/436 [==============================] - 1s 3ms/step - loss: 0.4371 - accuracy: 0.7922\n",
      "Epoch 7/100\n",
      "436/436 [==============================] - 1s 3ms/step - loss: 0.4353 - accuracy: 0.7926\n",
      "Epoch 8/100\n",
      "436/436 [==============================] - 1s 3ms/step - loss: 0.4347 - accuracy: 0.7929\n",
      "Epoch 9/100\n",
      "436/436 [==============================] - 1s 3ms/step - loss: 0.4344 - accuracy: 0.7927\n",
      "Epoch 10/100\n",
      "436/436 [==============================] - 1s 3ms/step - loss: 0.4346 - accuracy: 0.7925\n",
      "Epoch 11/100\n",
      "436/436 [==============================] - 1s 3ms/step - loss: 0.4342 - accuracy: 0.7925\n",
      "Epoch 12/100\n",
      "436/436 [==============================] - 1s 3ms/step - loss: 0.4338 - accuracy: 0.7927\n",
      "Epoch 13/100\n",
      "436/436 [==============================] - 1s 3ms/step - loss: 0.4336 - accuracy: 0.7920\n",
      "Epoch 14/100\n",
      "436/436 [==============================] - 1s 3ms/step - loss: 0.4331 - accuracy: 0.7925\n",
      "Epoch 15/100\n",
      "436/436 [==============================] - 1s 3ms/step - loss: 0.4336 - accuracy: 0.7927\n",
      "Epoch 16/100\n",
      "436/436 [==============================] - 1s 3ms/step - loss: 0.4339 - accuracy: 0.7931\n",
      "Epoch 17/100\n",
      "436/436 [==============================] - 1s 3ms/step - loss: 0.4341 - accuracy: 0.7927\n",
      "Epoch 18/100\n",
      "436/436 [==============================] - 1s 3ms/step - loss: 0.4324 - accuracy: 0.7930\n",
      "Epoch 19/100\n",
      "436/436 [==============================] - 1s 3ms/step - loss: 0.4321 - accuracy: 0.7931\n",
      "Epoch 20/100\n",
      "436/436 [==============================] - 1s 3ms/step - loss: 0.4334 - accuracy: 0.7924\n",
      "Epoch 21/100\n",
      "436/436 [==============================] - 1s 3ms/step - loss: 0.4327 - accuracy: 0.7934\n",
      "Epoch 22/100\n",
      "436/436 [==============================] - 1s 3ms/step - loss: 0.4329 - accuracy: 0.7924\n",
      "Epoch 23/100\n",
      "436/436 [==============================] - 2s 3ms/step - loss: 0.4330 - accuracy: 0.7930\n",
      "Epoch 24/100\n",
      "436/436 [==============================] - 1s 3ms/step - loss: 0.4325 - accuracy: 0.7930\n",
      "Epoch 25/100\n",
      "436/436 [==============================] - 1s 3ms/step - loss: 0.4332 - accuracy: 0.7931\n",
      "Epoch 26/100\n",
      "436/436 [==============================] - 1s 3ms/step - loss: 0.4321 - accuracy: 0.7930\n",
      "Epoch 27/100\n",
      "436/436 [==============================] - 1s 3ms/step - loss: 0.4324 - accuracy: 0.7928\n",
      "Epoch 28/100\n",
      "436/436 [==============================] - 1s 3ms/step - loss: 0.4325 - accuracy: 0.7932\n",
      "Epoch 29/100\n",
      "436/436 [==============================] - 1s 3ms/step - loss: 0.4320 - accuracy: 0.7931\n",
      "Epoch 30/100\n",
      "436/436 [==============================] - 1s 3ms/step - loss: 0.4322 - accuracy: 0.7927\n",
      "Epoch 31/100\n",
      "436/436 [==============================] - 1s 3ms/step - loss: 0.4313 - accuracy: 0.7934\n",
      "Epoch 32/100\n",
      "436/436 [==============================] - 1s 2ms/step - loss: 0.4320 - accuracy: 0.7932\n",
      "Epoch 33/100\n",
      "436/436 [==============================] - 1s 3ms/step - loss: 0.4319 - accuracy: 0.7930\n",
      "Epoch 34/100\n",
      "436/436 [==============================] - 1s 3ms/step - loss: 0.4318 - accuracy: 0.7929\n",
      "Epoch 35/100\n",
      "436/436 [==============================] - 1s 3ms/step - loss: 0.4321 - accuracy: 0.7928\n",
      "Epoch 36/100\n",
      "436/436 [==============================] - 1s 3ms/step - loss: 0.4318 - accuracy: 0.7927\n",
      "Epoch 37/100\n",
      "436/436 [==============================] - 1s 2ms/step - loss: 0.4318 - accuracy: 0.7929\n",
      "Epoch 38/100\n",
      "436/436 [==============================] - 1s 2ms/step - loss: 0.4317 - accuracy: 0.7934\n",
      "Epoch 39/100\n",
      "436/436 [==============================] - 1s 3ms/step - loss: 0.4317 - accuracy: 0.7928\n",
      "Epoch 40/100\n",
      "436/436 [==============================] - 1s 3ms/step - loss: 0.4317 - accuracy: 0.7928\n",
      "Epoch 41/100\n",
      "436/436 [==============================] - 1s 3ms/step - loss: 0.4317 - accuracy: 0.7936\n",
      "Epoch 42/100\n",
      "436/436 [==============================] - 1s 3ms/step - loss: 0.4313 - accuracy: 0.7939\n",
      "Epoch 43/100\n",
      "436/436 [==============================] - 1s 3ms/step - loss: 0.4312 - accuracy: 0.7926\n",
      "Epoch 44/100\n",
      "436/436 [==============================] - 1s 2ms/step - loss: 0.4314 - accuracy: 0.7936\n",
      "Epoch 45/100\n",
      "436/436 [==============================] - 1s 3ms/step - loss: 0.4311 - accuracy: 0.7930\n",
      "Epoch 46/100\n",
      "436/436 [==============================] - 1s 2ms/step - loss: 0.4310 - accuracy: 0.7936\n",
      "Epoch 47/100\n",
      "436/436 [==============================] - 1s 3ms/step - loss: 0.4313 - accuracy: 0.7929\n",
      "Epoch 48/100\n",
      "436/436 [==============================] - 1s 3ms/step - loss: 0.4316 - accuracy: 0.7928\n",
      "Epoch 49/100\n",
      "436/436 [==============================] - 1s 3ms/step - loss: 0.4311 - accuracy: 0.7931\n",
      "Epoch 50/100\n",
      "436/436 [==============================] - 1s 3ms/step - loss: 0.4315 - accuracy: 0.7928\n",
      "Epoch 51/100\n",
      "436/436 [==============================] - 1s 3ms/step - loss: 0.4316 - accuracy: 0.7932\n",
      "Epoch 52/100\n",
      "436/436 [==============================] - 2s 4ms/step - loss: 0.4313 - accuracy: 0.7940\n",
      "Epoch 53/100\n",
      "436/436 [==============================] - 1s 3ms/step - loss: 0.4312 - accuracy: 0.7933\n",
      "Epoch 54/100\n",
      "436/436 [==============================] - 1s 3ms/step - loss: 0.4315 - accuracy: 0.7931\n",
      "Epoch 55/100\n",
      "436/436 [==============================] - 1s 3ms/step - loss: 0.4307 - accuracy: 0.7932\n",
      "Epoch 56/100\n",
      "436/436 [==============================] - 1s 3ms/step - loss: 0.4308 - accuracy: 0.7930\n",
      "Epoch 57/100\n",
      "436/436 [==============================] - 1s 3ms/step - loss: 0.4313 - accuracy: 0.7936\n",
      "Epoch 58/100\n",
      "436/436 [==============================] - 1s 3ms/step - loss: 0.4309 - accuracy: 0.7941\n",
      "Epoch 59/100\n",
      "436/436 [==============================] - 1s 3ms/step - loss: 0.4310 - accuracy: 0.7934\n",
      "Epoch 60/100\n",
      "436/436 [==============================] - 1s 3ms/step - loss: 0.4309 - accuracy: 0.7928\n",
      "Epoch 61/100\n",
      "436/436 [==============================] - 1s 3ms/step - loss: 0.4310 - accuracy: 0.7938\n",
      "Epoch 62/100\n",
      "436/436 [==============================] - 1s 3ms/step - loss: 0.4313 - accuracy: 0.7933\n",
      "Epoch 63/100\n",
      "436/436 [==============================] - 1s 3ms/step - loss: 0.4306 - accuracy: 0.7940\n",
      "Epoch 64/100\n",
      "436/436 [==============================] - 1s 3ms/step - loss: 0.4309 - accuracy: 0.7931\n",
      "Epoch 65/100\n",
      "436/436 [==============================] - 1s 3ms/step - loss: 0.4310 - accuracy: 0.7931\n",
      "Epoch 66/100\n",
      "436/436 [==============================] - 1s 3ms/step - loss: 0.4309 - accuracy: 0.7936\n",
      "Epoch 67/100\n",
      "436/436 [==============================] - 1s 3ms/step - loss: 0.4308 - accuracy: 0.7944\n",
      "Epoch 68/100\n",
      "436/436 [==============================] - 1s 3ms/step - loss: 0.4306 - accuracy: 0.7930\n",
      "Epoch 69/100\n",
      "436/436 [==============================] - 1s 3ms/step - loss: 0.4307 - accuracy: 0.7936\n",
      "Epoch 70/100\n",
      "436/436 [==============================] - 1s 3ms/step - loss: 0.4310 - accuracy: 0.7930\n",
      "Epoch 71/100\n",
      "436/436 [==============================] - 1s 3ms/step - loss: 0.4306 - accuracy: 0.7933\n",
      "Epoch 72/100\n",
      "436/436 [==============================] - 1s 3ms/step - loss: 0.4310 - accuracy: 0.7930\n",
      "Epoch 73/100\n",
      "436/436 [==============================] - 1s 3ms/step - loss: 0.4308 - accuracy: 0.7935\n",
      "Epoch 74/100\n",
      "436/436 [==============================] - 1s 3ms/step - loss: 0.4307 - accuracy: 0.7929\n",
      "Epoch 75/100\n",
      "436/436 [==============================] - 1s 3ms/step - loss: 0.4305 - accuracy: 0.7935\n",
      "Epoch 76/100\n",
      "436/436 [==============================] - 1s 3ms/step - loss: 0.4307 - accuracy: 0.7930\n",
      "Epoch 77/100\n",
      "436/436 [==============================] - 1s 3ms/step - loss: 0.4306 - accuracy: 0.7937\n",
      "Epoch 78/100\n",
      "436/436 [==============================] - 2s 4ms/step - loss: 0.4306 - accuracy: 0.7938\n",
      "Epoch 79/100\n",
      "436/436 [==============================] - 1s 3ms/step - loss: 0.4307 - accuracy: 0.7937\n",
      "Epoch 80/100\n",
      "436/436 [==============================] - 1s 3ms/step - loss: 0.4307 - accuracy: 0.7932\n",
      "Epoch 81/100\n",
      "436/436 [==============================] - 1s 3ms/step - loss: 0.4307 - accuracy: 0.7929\n",
      "Epoch 82/100\n",
      "436/436 [==============================] - 1s 3ms/step - loss: 0.4304 - accuracy: 0.7942\n",
      "Epoch 83/100\n",
      "436/436 [==============================] - 1s 3ms/step - loss: 0.4308 - accuracy: 0.7939\n",
      "Epoch 84/100\n",
      "436/436 [==============================] - 1s 3ms/step - loss: 0.4306 - accuracy: 0.7930\n",
      "Epoch 85/100\n",
      "436/436 [==============================] - 1s 3ms/step - loss: 0.4304 - accuracy: 0.7935\n",
      "Epoch 86/100\n",
      "436/436 [==============================] - 1s 3ms/step - loss: 0.4304 - accuracy: 0.7933\n",
      "Epoch 87/100\n",
      "436/436 [==============================] - 1s 3ms/step - loss: 0.4304 - accuracy: 0.7936\n",
      "Epoch 88/100\n",
      "436/436 [==============================] - 1s 3ms/step - loss: 0.4306 - accuracy: 0.7930\n",
      "Epoch 89/100\n",
      "436/436 [==============================] - 1s 3ms/step - loss: 0.4305 - accuracy: 0.7940\n",
      "Epoch 90/100\n",
      "436/436 [==============================] - 1s 3ms/step - loss: 0.4304 - accuracy: 0.7935\n",
      "Epoch 91/100\n",
      "436/436 [==============================] - 1s 3ms/step - loss: 0.4304 - accuracy: 0.7938\n",
      "Epoch 92/100\n",
      "436/436 [==============================] - 1s 3ms/step - loss: 0.4306 - accuracy: 0.7938\n",
      "Epoch 93/100\n",
      "436/436 [==============================] - 1s 3ms/step - loss: 0.4302 - accuracy: 0.7937\n",
      "Epoch 94/100\n",
      "436/436 [==============================] - 1s 3ms/step - loss: 0.4305 - accuracy: 0.7937\n",
      "Epoch 95/100\n",
      "436/436 [==============================] - 1s 3ms/step - loss: 0.4301 - accuracy: 0.7941\n",
      "Epoch 96/100\n",
      "436/436 [==============================] - 1s 3ms/step - loss: 0.4304 - accuracy: 0.7942\n",
      "Epoch 97/100\n",
      "436/436 [==============================] - 1s 3ms/step - loss: 0.4304 - accuracy: 0.7933\n",
      "Epoch 98/100\n",
      "436/436 [==============================] - 1s 3ms/step - loss: 0.4302 - accuracy: 0.7933\n",
      "Epoch 99/100\n",
      "436/436 [==============================] - 1s 2ms/step - loss: 0.4302 - accuracy: 0.7934\n",
      "Epoch 100/100\n",
      "436/436 [==============================] - 1s 3ms/step - loss: 0.4305 - accuracy: 0.7941\n"
     ]
    },
    {
     "data": {
      "text/plain": [
       "<keras.callbacks.History at 0x7fe602410490>"
      ]
     },
     "execution_count": 11,
     "metadata": {},
     "output_type": "execute_result"
    }
   ],
   "source": [
    "model.fit(X_train, y_train, batch_size=150, epochs=100)"
   ]
  }
 ],
 "metadata": {
  "kernelspec": {
   "display_name": "Python 3",
   "language": "python",
   "name": "python3"
  },
  "language_info": {
   "codemirror_mode": {
    "name": "ipython",
    "version": 3
   },
   "file_extension": ".py",
   "mimetype": "text/x-python",
   "name": "python",
   "nbconvert_exporter": "python",
   "pygments_lexer": "ipython3",
   "version": "3.7.12"
  },
  "papermill": {
   "default_parameters": {},
   "duration": 165.427158,
   "end_time": "2022-01-04T03:06:19.322697",
   "environment_variables": {},
   "exception": null,
   "input_path": "__notebook__.ipynb",
   "output_path": "__notebook__.ipynb",
   "parameters": {},
   "start_time": "2022-01-04T03:03:33.895539",
   "version": "2.3.3"
  }
 },
 "nbformat": 4,
 "nbformat_minor": 5
}
